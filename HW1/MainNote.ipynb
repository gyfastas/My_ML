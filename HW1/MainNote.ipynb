{
 "cells": [
  {
   "cell_type": "code",
   "execution_count": 8,
   "metadata": {
    "collapsed": true
   },
   "outputs": [],
   "source": [
    "#导入环境\n",
    "import numpy as np\n",
    "import matplotlib.pyplot as plt\n",
    "import seaborn as sns\n",
    "import pandas as pd\n",
    "%inline matplotlib\n",
    "\n"
   ]
  },
  {
   "cell_type": "code",
   "execution_count": 10,
   "metadata": {},
   "outputs": [],
   "source": [
    "#读取数据\n",
    "train = pd.read_csv('D:/GIT/MY_ML/HW1/datas/train.csv')\n",
    "test = pd.read_csv('D:/GIT/MY_ML/HW1/datas/test.csv')\n"
   ]
  },
  {
   "cell_type": "code",
   "execution_count": 12,
   "metadata": {},
   "outputs": [
    {
     "name": "stderr",
     "output_type": "stream",
     "text": [
      "E:\\Anaconda\\lib\\site-packages\\ipykernel_launcher.py:8: SettingWithCopyWarning: \nA value is trying to be set on a copy of a slice from a DataFrame.\nTry using .loc[row_indexer,col_indexer] = value instead\n\nSee the caveats in the documentation: http://pandas.pydata.org/pandas-docs/stable/indexing.html#indexing-view-versus-copy\n  \nE:\\Anaconda\\lib\\site-packages\\ipykernel_launcher.py:10: SettingWithCopyWarning: \nA value is trying to be set on a copy of a slice from a DataFrame.\nTry using .loc[row_indexer,col_indexer] = value instead\n\nSee the caveats in the documentation: http://pandas.pydata.org/pandas-docs/stable/indexing.html#indexing-view-versus-copy\n  # Remove the CWD from sys.path while we load stuff.\n"
     ]
    },
    {
     "name": "stderr",
     "output_type": "stream",
     "text": [
      "E:\\Anaconda\\lib\\site-packages\\ipykernel_launcher.py:11: SettingWithCopyWarning: \nA value is trying to be set on a copy of a slice from a DataFrame.\nTry using .loc[row_indexer,col_indexer] = value instead\n\nSee the caveats in the documentation: http://pandas.pydata.org/pandas-docs/stable/indexing.html#indexing-view-versus-copy\n  # This is added back by InteractiveShellApp.init_path()\nE:\\Anaconda\\lib\\site-packages\\ipykernel_launcher.py:12: SettingWithCopyWarning: \nA value is trying to be set on a copy of a slice from a DataFrame.\nTry using .loc[row_indexer,col_indexer] = value instead\n\nSee the caveats in the documentation: http://pandas.pydata.org/pandas-docs/stable/indexing.html#indexing-view-versus-copy\n  if sys.path[0] == '':\n"
     ]
    }
   ],
   "source": [
    "\n",
    "#去除没有用的特征，构建新特征\n",
    "def FeatureSelect(df):\n",
    "    #构建参加人数的特征，并且去除较少人参加的部分\n",
    "    df['playersJoined'] = df.groupby('matchId')['matchId'].transform('count')\n",
    "    df = df[df['playersJoined']>49]\n",
    "    #合并击倒和击杀数\n",
    "    df['kills'] = df['kills']+df['DBNOs']\n",
    "    #由于每一场人数不同，需要先对kills和damageDealt进行归一化处理\n",
    "    df['killsNorm'] = df['kills'] * ((100 - df['playersJoined']) / 100 + 1)\n",
    "    df['damageDealtNorm'] = df['damageDealt'] * ((100 - df['playersJoined']) / 100 + 1)\n",
    "    df['distance'] = df['walkDistance']+df['swimDistance']+df['rideDistance']\n",
    "    #drop掉不用的特征\n",
    "    cols_to_drop = ['groupId','numGroups','matchId', 'roadKills', 'teamKills', 'vehicleDestroys','weaponsAcquired', 'maxPlace', 'walkDistance','winPoints', 'swimDistance', 'rideDistance','kills','damageDealt','DBNOs','killPoints','longestKill','revives','killStreaks']\n",
    "    cols_to_fit = [col for col in df.columns if col not in cols_to_drop]\n",
    "    df = df[cols_to_fit]\n",
    "\n",
    "    return df\n",
    "train = FeatureSelect(train)\n",
    "test  = FeatureSelect(test)\n",
    "#完成特征提取,采用线性模型fit并得到误差\n",
    "train = train.set_index(['Id'])\n",
    "test = test.set_index(['Id'])"
   ]
  },
  {
   "cell_type": "code",
   "execution_count": null,
   "metadata": {},
   "outputs": [],
   "source": []
  },
  {
   "cell_type": "code",
   "execution_count": null,
   "metadata": {},
   "outputs": [],
   "source": []
  }
 ],
 "metadata": {
  "kernelspec": {
   "display_name": "Python 3",
   "language": "python",
   "name": "python3"
  },
  "language_info": {
   "codemirror_mode": {
    "name": "ipython",
    "version": 3
   },
   "file_extension": ".py",
   "mimetype": "text/x-python",
   "name": "python",
   "nbconvert_exporter": "python",
   "pygments_lexer": "ipython3",
   "version": "3.6.4"
  }
 },
 "nbformat": 4,
 "nbformat_minor": 1
}
